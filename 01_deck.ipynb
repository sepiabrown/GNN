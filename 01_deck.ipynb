{
 "cells": [
  {
   "cell_type": "code",
   "execution_count": null,
   "id": "f4df4ebe-5bab-4a86-8546-d4f37ba17738",
   "metadata": {},
   "outputs": [],
   "source": [
    "#| default_exp deck"
   ]
  },
  {
   "cell_type": "markdown",
   "id": "476f280c-b1a4-4add-975e-3216d4a886bf",
   "metadata": {},
   "source": [
    "# deck\n",
    "\n",
    "> 트럼프 카드 덱 구성하기"
   ]
  },
  {
   "cell_type": "code",
   "execution_count": 2,
   "id": "43744c1a-67b4-470d-8fe6-94edfc6bd59b",
   "metadata": {},
   "outputs": [],
   "source": [
    "#| hide\n",
    "from nbdev.showdoc import *\n",
    "from fastcore.test import *\n",
    "from pytz import timezone\n",
    "import datetime\n",
    "from IPython.display import Markdown as md\n",
    "\n",
    "from IPython.core.interactiveshell import InteractiveShell"
   ]
  },
  {
   "cell_type": "code",
   "execution_count": 3,
   "id": "41da27d3-6543-461d-ab08-9f244fa9375f",
   "metadata": {},
   "outputs": [],
   "source": [
    "#| hide\n",
    "InteractiveShell.ast_node_interactivity = \"all\""
   ]
  },
  {
   "cell_type": "code",
   "execution_count": 4,
   "id": "e0fc6568-f263-4056-a7d1-88082e3af030",
   "metadata": {},
   "outputs": [
    {
     "data": {
      "text/markdown": [
       "Published : 2022-09-12 23:40:37 (KST)"
      ],
      "text/plain": [
       "<IPython.core.display.Markdown object>"
      ]
     },
     "execution_count": 4,
     "metadata": {},
     "output_type": "execute_result"
    }
   ],
   "source": [
    "#| echo: false\n",
    "#| exec_doc\n",
    "date = f\"{datetime.datetime.now(timezone('Asia/Seoul')):%Y-%m-%d %H:%M:%S}\"\n",
    "md(\"Published : %s (KST)\"%(date))"
   ]
  },
  {
   "cell_type": "code",
   "execution_count": null,
   "id": "edce72e7-4534-4fc0-a862-03d10213853a",
   "metadata": {},
   "outputs": [],
   "source": [
    "#| exports\n",
    "from nbdev_cards.card import *\n",
    "from fastcore.utils import *\n",
    "import random\n"
   ]
  },
  {
   "cell_type": "code",
   "execution_count": null,
   "id": "48dc140a-64bb-4724-b7c6-55198abc6e30",
   "metadata": {},
   "outputs": [],
   "source": [
    "#| export\n",
    "class Deck:\n",
    "    def __init__(self): self.cards = [Card(s, r) for s in range(4) for r in range(1, 14)]\n",
    "    def __len__(self): return len(self.cards)\n",
    "    def __str__(self): return '; '.join(map(str, self.cards))\n",
    "    def __contains__(self, card): return card in self.cards\n",
    "    __repr__ = __str__"
   ]
  },
  {
   "cell_type": "markdown",
   "id": "29380c88-640f-4855-879e-6b7c6e0653d1",
   "metadata": {},
   "source": [
    "덱 한 벌을 초기화하면, 모든 카드가 들어가 있다."
   ]
  },
  {
   "cell_type": "code",
   "execution_count": null,
   "id": "c774b966-05cb-458f-b819-2a0aae81bc4c",
   "metadata": {},
   "outputs": [
    {
     "data": {
      "text/plain": [
       "♣️A; ♣️2; ♣️3; ♣️4; ♣️5; ♣️6; ♣️7; ♣️8; ♣️9; ♣️10; ♣️J; ♣️Q; ♣️K; ♦️A; ♦️2; ♦️3; ♦️4; ♦️5; ♦️6; ♦️7; ♦️8; ♦️9; ♦️10; ♦️J; ♦️Q; ♦️K; ♥️A; ♥️2; ♥️3; ♥️4; ♥️5; ♥️6; ♥️7; ♥️8; ♥️9; ♥️10; ♥️J; ♥️Q; ♥️K; ♠️A; ♠️2; ♠️3; ♠️4; ♠️5; ♠️6; ♠️7; ♠️8; ♠️9; ♠️10; ♠️J; ♠️Q; ♠️K"
      ]
     },
     "execution_count": null,
     "metadata": {},
     "output_type": "execute_result"
    },
    {
     "data": {
      "text/plain": [
       "♣️A; ♣️2; ♣️3; ♣️4; ♣️5; ♣️6; ♣️7; ♣️8; ♣️9; ♣️10; ♣️J; ♣️Q; ♣️K; ♦️A; ♦️2; ♦️3; ♦️4; ♦️5; ♦️6; ♦️7; ♦️8; ♦️9; ♦️10; ♦️J; ♦️Q; ♦️K; ♥️A; ♥️2; ♥️3; ♥️4; ♥️5; ♥️6; ♥️7; ♥️8; ♥️9; ♥️10; ♥️J; ♥️Q; ♥️K; ♠️A; ♠️2; ♠️3; ♠️4; ♠️5; ♠️6; ♠️7; ♠️8; ♠️9; ♠️10; ♠️J; ♠️Q; ♠️K"
      ]
     },
     "execution_count": null,
     "metadata": {},
     "output_type": "execute_result"
    }
   ],
   "source": [
    "Deck()\n",
    "deck = Deck()\n",
    "deck"
   ]
  },
  {
   "cell_type": "markdown",
   "id": "cb95636c-2c36-4da7-86a1-d53173b52787",
   "metadata": {},
   "source": [
    "총 52개의 카드가 들어가 있어야 한다."
   ]
  },
  {
   "cell_type": "code",
   "execution_count": null,
   "id": "db7aedb3-a7a3-4aec-8b63-d9a21d546420",
   "metadata": {},
   "outputs": [],
   "source": [
    "test_eq(len(deck), 52)"
   ]
  },
  {
   "cell_type": "markdown",
   "id": "1f11e782-bd4c-4cab-859c-2c5e359117ce",
   "metadata": {},
   "source": [
    "`Card`를 포함하고 있는 소스코드에 `#| export \\ from fastcore.utils import *` 가 있어야 한다."
   ]
  },
  {
   "cell_type": "code",
   "execution_count": null,
   "id": "ea432722-6ddf-414c-8e14-d5a3f0953462",
   "metadata": {},
   "outputs": [
    {
     "data": {
      "text/plain": [
       "\u001b[0;31mInit signature:\u001b[0m \u001b[0mCard\u001b[0m\u001b[0;34m(\u001b[0m\u001b[0msuit\u001b[0m\u001b[0;34m,\u001b[0m \u001b[0mrank\u001b[0m\u001b[0;34m)\u001b[0m\u001b[0;34m\u001b[0m\u001b[0;34m\u001b[0m\u001b[0m\n",
       "\u001b[0;31mSource:\u001b[0m        \n",
       "\u001b[0;32mclass\u001b[0m \u001b[0mCard\u001b[0m\u001b[0;34m:\u001b[0m\u001b[0;34m\u001b[0m\n",
       "\u001b[0;34m\u001b[0m    \u001b[0;34m\"트럼프 카드\"\u001b[0m\u001b[0;34m\u001b[0m\n",
       "\u001b[0;34m\u001b[0m    \u001b[0;32mdef\u001b[0m \u001b[0m__init__\u001b[0m\u001b[0;34m(\u001b[0m\u001b[0mself\u001b[0m\u001b[0;34m,\u001b[0m\u001b[0;34m\u001b[0m\n",
       "\u001b[0;34m\u001b[0m                 \u001b[0msuit\u001b[0m\u001b[0;34m,\u001b[0m \u001b[0;31m# `suits`에 들어가는 인덱스\u001b[0m\u001b[0;34m\u001b[0m\n",
       "\u001b[0;34m\u001b[0m                 \u001b[0mrank\u001b[0m\u001b[0;34m)\u001b[0m\u001b[0;34m:\u001b[0m \u001b[0;31m# `ranks`에 들어가는 인덱스\u001b[0m\u001b[0;34m\u001b[0m\n",
       "\u001b[0;34m\u001b[0m        \u001b[0mself\u001b[0m\u001b[0;34m.\u001b[0m\u001b[0msuit\u001b[0m\u001b[0;34m,\u001b[0m \u001b[0mself\u001b[0m\u001b[0;34m.\u001b[0m\u001b[0mrank\u001b[0m \u001b[0;34m=\u001b[0m \u001b[0msuit\u001b[0m\u001b[0;34m,\u001b[0m \u001b[0mrank\u001b[0m\u001b[0;34m\u001b[0m\n",
       "\u001b[0;34m\u001b[0m        \u001b[0;31m#print(1/0)\u001b[0m\u001b[0;34m\u001b[0m\n",
       "\u001b[0;34m\u001b[0m    \u001b[0;32mdef\u001b[0m \u001b[0m__str__\u001b[0m\u001b[0;34m(\u001b[0m\u001b[0mself\u001b[0m\u001b[0;34m)\u001b[0m\u001b[0;34m:\u001b[0m \u001b[0;32mreturn\u001b[0m \u001b[0;34mf\"{suits[self.suit]}{ranks[self.rank]}\"\u001b[0m\u001b[0;34m\u001b[0m\n",
       "\u001b[0;34m\u001b[0m    \u001b[0m__repr__\u001b[0m \u001b[0;34m=\u001b[0m \u001b[0m__str__\u001b[0m\u001b[0;34m\u001b[0m\n",
       "\u001b[0;34m\u001b[0m    \u001b[0;31m# def __eq__(self, a:'Card'): return (self.suit,self.rank) == (a.suit,a.rank)\u001b[0m\u001b[0;34m\u001b[0m\u001b[0;34m\u001b[0m\u001b[0m\n",
       "\u001b[0;31mFile:\u001b[0m           ~/Jupyter_Python/nbdev_cards/nbdev_cards/card.py\n",
       "\u001b[0;31mType:\u001b[0m           type\n",
       "\u001b[0;31mSubclasses:\u001b[0m     \n"
      ]
     },
     "metadata": {},
     "output_type": "display_data"
    }
   ],
   "source": [
    "Card??"
   ]
  },
  {
   "cell_type": "markdown",
   "id": "c47ae601-59bf-4766-ab44-cc2390ccc15f",
   "metadata": {},
   "source": [
    "다시 상기해보면, 아래는 `Card`를 정의하기 위한 문양들이다:"
   ]
  },
  {
   "cell_type": "code",
   "execution_count": null,
   "id": "eef2b384-d8b5-410b-91ba-35a09fba70a0",
   "metadata": {},
   "outputs": [
    {
     "data": {
      "text/plain": [
       "['♣️', '♦️', '♥️', '♠️']"
      ]
     },
     "execution_count": null,
     "metadata": {},
     "output_type": "execute_result"
    }
   ],
   "source": [
    "suits"
   ]
  },
  {
   "cell_type": "markdown",
   "id": "b739eed5-4768-42f4-9460-05f161a079d6",
   "metadata": {},
   "source": [
    "클럽 에이스가 덱에 포함되어 있는지 확인할 수 있다:"
   ]
  },
  {
   "cell_type": "code",
   "execution_count": null,
   "id": "6c8c0a86-3d29-41ea-a771-f993cf2d1527",
   "metadata": {},
   "outputs": [
    {
     "data": {
      "text/plain": [
       "True"
      ]
     },
     "execution_count": null,
     "metadata": {},
     "output_type": "execute_result"
    }
   ],
   "source": [
    "Card(1,1) in deck # __contains__ 함수가 정의되어 있어야한다."
   ]
  },
  {
   "cell_type": "code",
   "execution_count": null,
   "id": "78d7bf1b-92b2-4812-859c-1c7e71b6bca6",
   "metadata": {},
   "outputs": [],
   "source": [
    "#| export\n",
    "@patch\n",
    "def pop(self:Deck,\n",
    "        idx:int=-1): # 지우려는 카드의 인덱스. 기본값은 덱의 마지막 카드 인덱스\n",
    "    \"덱에서 인덱스에 해당되는 카드를 없애고 그 카드를 반환한다.\"\n",
    "    return self.cards.pop(idx)"
   ]
  },
  {
   "cell_type": "code",
   "execution_count": null,
   "id": "4d6efa3c-3c6f-45b4-b6e1-dc07ce8e16ec",
   "metadata": {},
   "outputs": [
    {
     "data": {
      "text/plain": [
       "♠️K"
      ]
     },
     "execution_count": null,
     "metadata": {},
     "output_type": "execute_result"
    }
   ],
   "source": [
    "deck.pop()"
   ]
  },
  {
   "cell_type": "code",
   "execution_count": null,
   "id": "63599f19-1209-4223-aea6-d745ce19235d",
   "metadata": {},
   "outputs": [],
   "source": [
    "deck = Deck()\n",
    "test_eq(deck.pop(), Card(3,13)) # K♠️"
   ]
  },
  {
   "cell_type": "markdown",
   "id": "ae38a54e-d4cc-4b49-891b-bfe9358bdac7",
   "metadata": {},
   "source": [
    "이제 덱에는 51장의 카드가 남아있다."
   ]
  },
  {
   "cell_type": "code",
   "execution_count": null,
   "id": "9e3f8c1b-f21e-4c6d-86e6-3ebb9fbca91c",
   "metadata": {},
   "outputs": [],
   "source": [
    "test_eq(len(deck), 51)"
   ]
  },
  {
   "cell_type": "code",
   "execution_count": null,
   "id": "dd06665a-4fe6-4151-b72c-fc5aee8c3bd4",
   "metadata": {},
   "outputs": [],
   "source": [
    "#| export\n",
    "@patch\n",
    "def remove(self:Deck,\n",
    "           card:Card): # 없애려는 카드\n",
    "    \"덱에서 `card`를 없애고, 그 카드가 덱에 없었다면 예외를 발생시킨다.\"\n",
    "    self.cards.remove(card)"
   ]
  },
  {
   "cell_type": "code",
   "execution_count": null,
   "id": "0fe22648-9f73-4e2e-9d55-e534cc66df35",
   "metadata": {},
   "outputs": [],
   "source": [
    "card23 = Card(2,3)\n",
    "deck.remove(card23)\n",
    "assert card23 not in deck"
   ]
  },
  {
   "cell_type": "code",
   "execution_count": null,
   "id": "67c0a772-7a1f-437a-ac3b-5ec8aae1da3f",
   "metadata": {},
   "outputs": [
    {
     "data": {
      "text/plain": [
       "♥️7"
      ]
     },
     "execution_count": null,
     "metadata": {},
     "output_type": "execute_result"
    },
    {
     "ename": "AssertionError",
     "evalue": "",
     "output_type": "error",
     "traceback": [
      "\u001b[0;31m---------------------------------------------------------------------------\u001b[0m",
      "\u001b[0;31mAssertionError\u001b[0m                            Traceback (most recent call last)",
      "Cell \u001b[0;32mIn [20], line 2\u001b[0m\n\u001b[1;32m      1\u001b[0m Card(\u001b[38;5;241m2\u001b[39m,\u001b[38;5;241m7\u001b[39m)\n\u001b[0;32m----> 2\u001b[0m \u001b[38;5;28;01massert\u001b[39;00m Card(\u001b[38;5;241m2\u001b[39m,\u001b[38;5;241m7\u001b[39m) \u001b[38;5;129;01mnot\u001b[39;00m \u001b[38;5;129;01min\u001b[39;00m deck\n",
      "\u001b[0;31mAssertionError\u001b[0m: "
     ]
    }
   ],
   "source": [
    "#| eval: false\n",
    "Card(2,7)\n",
    "assert Card(2,7) not in deck"
   ]
  },
  {
   "cell_type": "code",
   "execution_count": null,
   "id": "92aeeb62-796a-47f6-85a3-e4f0bb4003bd",
   "metadata": {},
   "outputs": [],
   "source": [
    "#| export\n",
    "@patch\n",
    "def shuffle(self:Deck):\n",
    "    \"덱을 섞는다.\"\n",
    "    random.shuffle(self.cards)\n",
    "    \n",
    "def draw_n(n:int, # 뽑으려는 카드의 개수\n",
    "           replace:bool=True): # 복원 추출 여부\n",
    "    \"`n`개의 카드를 추출. `replace`가 `True`일 경우 복원 추출.\"\n",
    "    d = Deck()\n",
    "    d.shuffle()\n",
    "    if replace: return [ d.cards[random.choice(range(len(d.cards)))] for _ in range(n)]\n",
    "    else: return d.cards[:n]"
   ]
  },
  {
   "cell_type": "code",
   "execution_count": null,
   "id": "e33676db-7eca-4078-adc0-515da8925295",
   "metadata": {},
   "outputs": [
    {
     "data": {
      "text/plain": [
       "[♠️9, ♣️4, ♦️5, ♣️J, ♠️K, ♣️A, ♠️10, ♣️6, ♣️K, ♣️5, ♠️3, ♦️3, ♦️Q]"
      ]
     },
     "execution_count": null,
     "metadata": {},
     "output_type": "execute_result"
    }
   ],
   "source": [
    "draw_n(13, replace=False)"
   ]
  }
 ],
 "metadata": {
  "kernelspec": {
   "display_name": "Python3 - ms-thesis--env",
   "language": "python",
   "name": "ipython_ms-thesis--env"
  },
  "language_info": {
   "codemirror_mode": {
    "name": "ipython",
    "version": 3
   },
   "file_extension": ".py",
   "mimetype": "text/x-python",
   "name": "python",
   "nbconvert_exporter": "python",
   "pygments_lexer": "ipython3",
   "version": "3.9.13"
  }
 },
 "nbformat": 4,
 "nbformat_minor": 5
}
